{
 "cells": [
  {
   "cell_type": "code",
   "execution_count": null,
   "metadata": {
    "collapsed": true,
    "pycharm": {
     "is_executing": true
    }
   },
   "outputs": [
    {
     "name": "stdout",
     "output_type": "stream",
     "text": [
      " Pfad des ausgewählten Ordners lautet : C:/Users/angee/Downloads/Aufgabe_04/Aufgabe_04/S0_Messdaten\n"
     ]
    },
    {
     "name": "stderr",
     "output_type": "stream",
     "text": [
      "C:\\Users\\angee\\PycharmProjects\\SomeTools\\darstellung_als_Grafik.py:15: RuntimeWarning: More than 20 figures have been opened. Figures created through the pyplot interface (`matplotlib.pyplot.figure`) are retained until explicitly closed and may consume too much memory. (To control this warning, see the rcParam `figure.max_open_warning`). Consider using `matplotlib.pyplot.close()`.\n",
      "  fig, axs = plt.subplots(3)\n"
     ]
    },
    {
     "name": "stdout",
     "output_type": "stream",
     "text": [
      "Die Anzahl der Einstellversuche in dem Ordner beträgt: 8\n",
      "['04_IP23_ZO_EY_6g_C6_Ak_32_Rq_V7_WH_hc_Dw_rj_EY.csv', '04_IP23_ZO_EY_6g_C6_MK_32_Rq_V7_WH_hc_Dw_rj_EY.csv', '04_IP23_ZO_EY_6g_S4_73_32_Rq_3d_WH_vG_Dw_rj_R2.csv', '04_IP23_ZO_EY_6g_S4_dN_32_Rq_V7_WH_Ao_Dw_rj_EY.csv', '04_IP23_ZO_EY_6g_S4_zS_32_Rq_3d_WH_vG_Dw_rj_R2.csv', '04_IP23_ZO_EY_6g_tZ_Ak_32_Rq_3d_WH_vG_Dw_rj_yw.csv', '04_IP23_ZO_EY_6g_tZ_Ak_32_Rq_4K_WH_hc_Dw_rj_EY.csv', '04_IP23_ZO_EY_6g_tZ_Ic_32_Rq_4K_WH_hc_Dw_rj_R2.csv']\n",
      "Die Anzahl der Nachweisversuche in dem Ordner beträgt: 20\n",
      "['04_IP23_FA_5M_6g_Fu_73_32_Rq_V7_mj_Ao_B7_rj_yw.csv', '04_IP23_FA_5M_6g_Fu_8b_32_Rq_V7_mj_Ao_B7_rj_yw.csv', '04_IP23_FA_5M_6g_Fu_dN_32_Rq_V7_mj_Ao_B7_rj_yw.csv', '04_IP23_FA_5M_6g_Fu_MK_32_Rq_V7_mj_Ao_B7_rj_yw.csv', '04_IP23_FA_5M_6g_Fu_yq_32_Rq_V7_mj_Ao_B7_rj_yw.csv', '04_IP23_ZO_5M_6g_C6_Ak_32_Rq_4K_WH_hc_MJ_rj_EY.csv', '04_IP23_ZO_5M_6g_C6_ps_32_Rq_3d_WH_vG_B7_rj_R2.csv', '04_IP23_ZO_5M_6g_C6_ZY_32_Rq_V7_WH_hc_B7_rj_EY.csv', '04_IP23_ZO_5M_6g_Ge_73_32_Rq_3d_WH_vG_B7_rj_yw.csv', '04_IP23_ZO_5M_6g_Ge_8b_32_Rq_V7_WH_Ao_B7_rj_EY.csv', '04_IP23_ZO_5M_6g_S4_6t_32_Rq_V7_WH_Ao_B7_rj_EY.csv', '04_IP23_ZO_5M_6g_S4_8b_32_Rq_3d_WH_vG_B7_rj_R2.csv', '04_IP23_ZO_5M_6g_S4_iR_32_Rq_V7_WH_Ao_B7_rj_EY.csv', '04_IP23_ZO_5M_6g_S4_MK_32_Rq_V7_WH_Ao_B7_rj_EY.csv', '04_IP23_ZO_5M_6g_S4_yq_32_Rq_V7_WH_Ao_B7_rj_EY.csv', '04_IP23_ZO_5M_6g_tZ_6t_32_Rq_3d_WH_vG_B7_rj_yw.csv', '04_IP23_ZO_5M_6g_tZ_Ak_32_Rq_V7_WH_hc_B7_rj_EY.csv', '04_IP23_ZO_5M_6g_tZ_ps_32_Rq_3d_WH_vG_MJ_rj_R2.csv', '04_IP23_ZO_5M_9r_tZ_6t_32_Rq_4K_WH_hc_MJ_rj_R2.csv', '04_IP23_ZO_5M_9r_tZ_yq_32_Rq_4K_WH_hc_MJ_rj_R2.csv']\n"
     ]
    },
    {
     "name": "stderr",
     "output_type": "stream",
     "text": [
      "Exception in Tkinter callback\n",
      "Traceback (most recent call last):\n",
      "  File \"C:\\Users\\angee\\AppData\\Local\\Programs\\Python\\Python310\\lib\\tkinter\\__init__.py\", line 1921, in __call__\n",
      "    return self.func(*args)\n",
      "  File \"C:\\Users\\angee\\AppData\\Local\\Temp\\ipykernel_10300\\1811296306.py\", line 10, in select_path\n",
      "    excel(path)\n",
      "  File \"C:\\Users\\angee\\PycharmProjects\\SomeTools\\Excelserstellung.py\", line 70, in excel\n",
      "    wb.save(\"sample.xlsx\")\n",
      "  File \"C:\\Users\\angee\\AppData\\Local\\Programs\\Python\\Python310\\lib\\site-packages\\openpyxl\\workbook\\workbook.py\", line 386, in save\n",
      "    save_workbook(self, filename)\n",
      "  File \"C:\\Users\\angee\\AppData\\Local\\Programs\\Python\\Python310\\lib\\site-packages\\openpyxl\\writer\\excel.py\", line 291, in save_workbook\n",
      "    archive = ZipFile(filename, 'w', ZIP_DEFLATED, allowZip64=True)\n",
      "  File \"C:\\Users\\angee\\AppData\\Local\\Programs\\Python\\Python310\\lib\\zipfile.py\", line 1249, in __init__\n",
      "    self.fp = io.open(file, filemode)\n",
      "PermissionError: [Errno 13] Permission denied: 'sample.xlsx'\n"
     ]
    }
   ],
   "source": [
    "import tkinter as tk\n",
    "from tkinter import filedialog\n",
    "from Excelserstellung import excel\n",
    "\n",
    "def select_path():\n",
    "\n",
    "    path = filedialog.askdirectory()\n",
    "    if path:\n",
    "        print(' Pfad des ausgewählten Ordners lautet :', path)\n",
    "        excel(path)\n",
    "\n",
    "def select_file():\n",
    "\n",
    "    path = filedialog.askopenfilename()\n",
    "    if path:\n",
    "        print(' Pfad des ausgewählten Ordners lautet :', path)\n",
    "\n",
    "\n",
    "def get_input_value():\n",
    "    user_input = input_field.get()\n",
    "    excel(user_input)\n",
    "    print(\" Pfad des ausgewählten Ordners lautet :\", user_input)\n",
    "\n",
    "window = tk.Tk()\n",
    "input_field = tk.Entry(window)\n",
    "input_field.pack()\n",
    "window.title(\"graphisches interface\")\n",
    "button = tk.Button(window, text = \"Bestätigen Sie!\", command=select_path)\n",
    "input_button = tk.Button(window, text=\"Récupérer la valeur\", command=get_input_value)\n",
    "inputfile_button = tk.Button(window, text=\"Récupérer un fichier\", command=select_file)\n",
    "input_button.pack()\n",
    "button.pack()\n",
    "inputfile_button.pack()\n",
    "window.mainloop()"
   ]
  },
  {
   "cell_type": "code",
   "execution_count": null,
   "outputs": [],
   "source": [],
   "metadata": {
    "collapsed": false
   }
  }
 ],
 "metadata": {
  "kernelspec": {
   "display_name": "Python 3",
   "language": "python",
   "name": "python3"
  },
  "language_info": {
   "codemirror_mode": {
    "name": "ipython",
    "version": 2
   },
   "file_extension": ".py",
   "mimetype": "text/x-python",
   "name": "python",
   "nbconvert_exporter": "python",
   "pygments_lexer": "ipython2",
   "version": "2.7.6"
  }
 },
 "nbformat": 4,
 "nbformat_minor": 0
}
